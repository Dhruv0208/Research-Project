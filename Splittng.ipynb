{
 "cells": [
  {
   "cell_type": "code",
   "execution_count": 1,
   "id": "conservative-arctic",
   "metadata": {},
   "outputs": [],
   "source": [
    "import json\n",
    "import funcy\n",
    "from sklearn.model_selection import train_test_split\n",
    "import argparse"
   ]
  },
  {
   "cell_type": "code",
   "execution_count": 8,
   "id": "third-leader",
   "metadata": {},
   "outputs": [],
   "source": [
    "def save_coco_file(file, info, licenses, images, annotations, categories):\n",
    "    with open(file, 'wt', encoding=\"UTF-8\") as coco:\n",
    "        json.dump({ 'info': info, 'licenses': licenses, 'images': images,\n",
    "                  'annotations': annotations, 'categories': categories}, coco, indent = 2, sort_keys = True)\n",
    "def valid_annotations(annotations, images):\n",
    "    image_ids = funcy.lmap(lambda i: int(i['id']), images)\n",
    "    return funcy.lfilter(lambda a: int(a['image_id']) in image_ids, annotations)\n",
    "\n",
    "with open('/media/beast/Samsung_T5/nVidia_Research_Work/annotations/instances_train2017.json', 'rt', encoding='UTF-8') as annotations:\n",
    "    coco = json.load(annotations)\n",
    "    info = coco['info']\n",
    "    licenses = coco['licenses']\n",
    "    images = coco['images']\n",
    "    annotations = coco['annotations']\n",
    "    categories = coco['categories']\n",
    "    \n",
    "    number_of_images = len(images)\n",
    "    \n",
    "    annotated_images = funcy.lmap(lambda a: int(a['image_id']), annotations)\n",
    "    x, y = train_test_split(images, train_size = 0.2)\n",
    "    \n",
    "    save_coco_file('/media/beast/Samsung_T5/nVidia_Research_Work/train.json', info, licenses, x, valid_annotations(annotations, x), categories)\n",
    "    save_coco_file('/media/beast/Samsung_T5/nVidia_Research_Work/test.json', info, licenses, y, valid_annotations(annotations, y), categories)"
   ]
  },
  {
   "cell_type": "code",
   "execution_count": null,
   "id": "political-suspect",
   "metadata": {},
   "outputs": [],
   "source": []
  }
 ],
 "metadata": {
  "kernelspec": {
   "display_name": "Python 3",
   "language": "python",
   "name": "python3"
  },
  "language_info": {
   "codemirror_mode": {
    "name": "ipython",
    "version": 3
   },
   "file_extension": ".py",
   "mimetype": "text/x-python",
   "name": "python",
   "nbconvert_exporter": "python",
   "pygments_lexer": "ipython3",
   "version": "3.7.9"
  }
 },
 "nbformat": 4,
 "nbformat_minor": 5
}
