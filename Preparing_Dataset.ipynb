{
 "cells": [
  {
   "cell_type": "markdown",
   "metadata": {
    "id": "14RATsZAeRGW"
   },
   "source": [
    "<table align=\"left\"><td>\n",
    "  <a target=\"_blank\"  href=\"https://github.com/Dhruv0208/Research-Project/Preparing_Dataset.ipynb\">\n",
    "    <img src=\"https://www.tensorflow.org/images/GitHub-Mark-32px.png\" />View source on github\n",
    "  </a>\n",
    "</td><td>\n",
    "  <a target=\"_blank\"  href=\"https://colab.sandbox.google.com/github/Dhruv0208/Research-Project/Preparing_Dataset.ipynb\">\n",
    "    <img width=32px src=\"https://www.tensorflow.org/images/colab_logo_32px.png\" />Run in Google Colab</a>\n",
    "</td></table>"
   ]
  },
  {
   "cell_type": "markdown",
   "metadata": {
    "id": "alqVRv-LecJ-"
   },
   "source": [
    "## Importing important Libraries"
   ]
  },
  {
   "cell_type": "code",
   "execution_count": null,
   "metadata": {
    "id": "D2Oh4j_yefTi"
   },
   "outputs": [],
   "source": [
    "%matplotlib inline\n",
    "import cv2\n",
    "from PIL import Image\n",
    "from os import path\n",
    "from pycocotools.coco import COCO\n",
    "import numpy as np\n",
    "import skimage.io as io\n",
    "import matplotlib.pyplot as plt\n",
    "import pylab\n",
    "pylab.rcParams['figure.figsize'] = (8.0, 10.0)\n",
    "import pandas as pd\n",
    "import os\n",
    "import csv"
   ]
  },
  {
   "cell_type": "markdown",
   "metadata": {
    "id": "pvRNZzWFehju"
   },
   "source": [
    "## Function for converting Nested list to flat list"
   ]
  },
  {
   "cell_type": "code",
   "execution_count": null,
   "metadata": {
    "id": "27McVid4ejwZ"
   },
   "outputs": [],
   "source": [
    "catnms = []\n",
    "def flatlist(l):\n",
    "    for x in l:\n",
    "        if type(x) == list:\n",
    "            flatlist(x)\n",
    "        else:\n",
    "            catnms.append(x) "
   ]
  },
  {
   "cell_type": "markdown",
   "metadata": {
    "id": "kJfGLA3FemYA"
   },
   "source": [
    "Some of the categories are not present in the default annotations file. Use the Categories.txt file to get all the categories.\n"
   ]
  },
  {
   "cell_type": "markdown",
   "metadata": {
    "id": "omqJDHuHeruj"
   },
   "source": [
    "Converting categories names into list\n"
   ]
  },
  {
   "cell_type": "code",
   "execution_count": null,
   "metadata": {
    "id": "AeURpFateprb"
   },
   "outputs": [],
   "source": [
    "l = []\n",
    "with open('Categories', newline='') as inputfile:\n",
    "    for row in csv.reader(inputfile):\n",
    "        l.append(row)\n",
    "flatlist(l)"
   ]
  },
  {
   "cell_type": "code",
   "execution_count": null,
   "metadata": {
    "id": "f7B-5zLReuNE"
   },
   "outputs": [],
   "source": [
    "# setting up directory and file location\n",
    "dataDir='.'\n",
    "dataType='val2017'\n",
    "annFile='{}/annotations/instances_{}.json'.format(dataDir,dataType)\n",
    "# creating class for annotation file\n",
    "coco = COCO(annFile)\n",
    "# display COCO supercategories\n",
    "cats = coco.loadCats(coco.getCatIds())\n",
    "nms = set([cat['supercategory'] for cat in cats])\n",
    "print('COCO supercategories: \\n{}'.format(','.join(\"'\" + i + \"'\" for i in nms)))\n",
    "\n",
    "# creating the list of bounding boxes, category IDs and category names\n",
    "\n",
    "for i in catnms:\n",
    "    catIds = coco.getCatIds(catNms=['i']);\n",
    "    imgIds = coco.getImgIds(catIds=catIds)\n",
    "    images = coco.loadImgs(imgIds)\n",
    "cols=[\"image_path\",\"left\",\"top\",\"right\",\"bottom\",\"cat_ID\",\"cat_Name\"]\n",
    "lst = []\n",
    "for im in images:\n",
    "    annIds = coco.getAnnIds(imgIds=im['id'], catIds=catIds, iscrowd=None)\n",
    "    anns = coco.loadAnns(annIds)\n",
    "    for i in range(len(anns)):\n",
    "        lst.append(['annotated_dataset/' + im['file_name'],  \n",
    "                     int(round(anns[i]['bbox'][0])), int(round(anns[i]['bbox'][1])),\n",
    "                     int(round(anns[i]['bbox'][0] + anns[i]['bbox'][2])),  \n",
    "                     int(round(anns[i]['bbox'][1] + anns[i]['bbox'][3])),anns[i]['category_id'],\n",
    "                     catnms[anns[i]['category_id']-1]])\n",
    "        "
   ]
  }
 ],
 "metadata": {
  "colab": {
   "name": "Preparing Dataset.ipynb",
   "provenance": []
  },
  "kernelspec": {
   "display_name": "Python 3",
   "language": "python",
   "name": "python3"
  },
  "language_info": {
   "codemirror_mode": {
    "name": "ipython",
    "version": 3
   },
   "file_extension": ".py",
   "mimetype": "text/x-python",
   "name": "python",
   "nbconvert_exporter": "python",
   "pygments_lexer": "ipython3",
   "version": "3.7.9"
  }
 },
 "nbformat": 4,
 "nbformat_minor": 1
}
