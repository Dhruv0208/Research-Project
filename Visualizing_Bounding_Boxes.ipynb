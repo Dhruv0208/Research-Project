{
 "cells": [
  {
   "cell_type": "markdown",
   "metadata": {
    "id": "ANIjJa0SskDI"
   },
   "source": [
    "# EfficientDet Evaluation \n",
    "\n",
    "\n",
    "\n",
    "<table align=\"left\"><td>\n",
    "  <a target=\"_blank\"  href=\"https://github.com/Dhruv0208/Research-Project/Visualizing bounding boxes.ipynb\">\n",
    "    <img src=\"https://www.tensorflow.org/images/GitHub-Mark-32px.png\" />View source on github\n",
    "  </a>\n",
    "</td><td>\n",
    "  <a target=\"_blank\"  href=\"https://colab.sandbox.google.com/github/Dhruv0208/Research-Project/Visualizing bounding boxes.ipynb\">\n",
    "    <img width=32px src=\"https://www.tensorflow.org/images/colab_logo_32px.png\" />Run in Google Colab</a>\n",
    "</td></table>"
   ]
  },
  {
   "cell_type": "markdown",
   "metadata": {
    "id": "gdZ9eCXybdEK"
   },
   "source": [
    "## For the dataset download the files using the following commands( On Google Colab)\n",
    "\n",
    "You can delete the zip file after unizpping them"
   ]
  },
  {
   "cell_type": "code",
   "execution_count": null,
   "metadata": {
    "id": "OGAnet6nbUCk"
   },
   "outputs": [],
   "source": [
    "!wget http://images.cocodataset.org/zips/train2017.zip\n",
    "\n",
    "!wget http://images.cocodataset.org/zips/val2017.zip\n",
    "\n",
    "!wget http://images.cocodataset.org/annotations/annotations_trainval2017.zip\n",
    "\n",
    "!wget http://images.cocodataset.org/annotations/stuff_annotations_trainval2017.zip\n",
    "\n",
    "%%capture\n",
    "\n",
    "!unzip stuff_annotations_trainval2017.zip\n",
    "\n",
    "%%capture\n",
    "\n",
    "!unzip annotations_trainval2017.zip\n",
    "\n",
    "%%capture\n",
    "\n",
    "!unzip train2017.zip\n",
    "\n",
    "%%capture\n",
    "\n",
    "!unzip val2017.zip"
   ]
  },
  {
   "cell_type": "markdown",
   "metadata": {
    "id": "fT-4IBgtbha7"
   },
   "source": [
    "## For the dataset download the files using the following commands( on Personal Machine)"
   ]
  },
  {
   "cell_type": "code",
   "execution_count": null,
   "metadata": {
    "id": "CwDbAhZmbjTD"
   },
   "outputs": [],
   "source": [
    "import sys\n",
    "!{sys.executable} -m pip install wget ## if wget module is not installed run this first\n",
    "!{sys.executable} -m wget http://images.cocodataset.org/zips/train2017.zip ## use this pattern for \n",
    "    ##downloading and unzipping the files"
   ]
  },
  {
   "cell_type": "markdown",
   "metadata": {
    "id": "vJebpdgPbnVX"
   },
   "source": [
    "## Importing Libraries"
   ]
  },
  {
   "cell_type": "code",
   "execution_count": null,
   "metadata": {
    "id": "ZcDTyPgNbmW8"
   },
   "outputs": [],
   "source": [
    "from gluoncv import data, utils\n",
    "from matplotlib import pyplot as plt\n",
    "import cv2\n",
    "import numpy as np"
   ]
  },
  {
   "cell_type": "code",
   "execution_count": null,
   "metadata": {
    "id": "5fEWxQbsbueS"
   },
   "outputs": [],
   "source": [
    "val_dataset = data.COCODetection('.', splits=['instances_val2017'])"
   ]
  },
  {
   "cell_type": "markdown",
   "metadata": {
    "id": "FJRXCQTdb3V_"
   },
   "source": [
    "## Function for displaying image with class names and bounding boxes"
   ]
  },
  {
   "cell_type": "code",
   "execution_count": null,
   "metadata": {
    "id": "giMpQRvKb2bZ"
   },
   "outputs": [],
   "source": [
    "def imShowCv(image):\n",
    "    height, width = image.shape[:2]\n",
    "    resized_image = cv2.resize(image, (3*width, 3*height), interpolation = cv2.INTER_CUBIC)\n",
    "    fig = plt.gcf()\n",
    "    fig.set_size_inches(18, 18)\n",
    "    plt.axis(\"off\")\n",
    "    plt.imshow(cv2.cvtColor(resized_image, cv2.COLOR_BGR2RGB))"
   ]
  },
  {
   "cell_type": "markdown",
   "metadata": {
    "id": "uwNA4KRAb7fu"
   },
   "source": [
    "## Extracting bounding boxes and class names"
   ]
  },
  {
   "cell_type": "code",
   "execution_count": null,
   "metadata": {
    "id": "QN35ifipb-TG"
   },
   "outputs": [],
   "source": [
    "val_image, val_label = val_dataset[3456]\n",
    "bounding_boxes = val_label[:, :4]\n",
    "class_ids = val_label[:, 4:5]\n",
    "class_names = val_dataset.classes\n",
    "val_image = val_image.asnumpy()\n",
    "for i in range(len(class_ids)):\n",
    "    class_id = int(class_ids[i][0])\n",
    "    class_name = val_dataset.classes[class_id]\n",
    "    class_id_ = str(int(class_ids[i][0]))\n",
    "    bbox = bounding_boxes[i]\n",
    "    \n",
    "    x1 = int(bbox[0])\n",
    "    y1 = int(bbox[1])\n",
    "    x2 = int(bbox[2])\n",
    "    y2 = int(bbox[3])\n",
    "    \n",
    "    cv2.rectangle(val_image, (x1, y1), (x2, y2), (255, 0, 0), 1)\n",
    "    cv2.putText(val_image,class_name, (x1, y1), cv2.FONT_HERSHEY_SIMPLEX, .6,(0, 0, 255),2)\n",
    "\n",
    "    imShowCv(val_image)"
   ]
  }
 ],
 "metadata": {
  "colab": {
   "authorship_tag": "ABX9TyPkjrsOdgUSl4FVqRw58oeQ",
   "collapsed_sections": [],
   "name": "Copy of Visualizing_Bounding_Boxes.ipynb",
   "provenance": [
    {
     "file_id": "1DnkLdjgPlxs51EtRGbKxm7YvMULDa_jP",
     "timestamp": 1613539360144
    }
   ]
  },
  "kernelspec": {
   "display_name": "Python 3",
   "language": "python",
   "name": "python3"
  },
  "language_info": {
   "codemirror_mode": {
    "name": "ipython",
    "version": 3
   },
   "file_extension": ".py",
   "mimetype": "text/x-python",
   "name": "python",
   "nbconvert_exporter": "python",
   "pygments_lexer": "ipython3",
   "version": "3.7.9"
  }
 },
 "nbformat": 4,
 "nbformat_minor": 1
}
